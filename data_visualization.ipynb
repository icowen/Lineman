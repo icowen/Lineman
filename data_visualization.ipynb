{
 "cells": [
  {
   "cell_type": "code",
   "execution_count": 53,
   "metadata": {
    "collapsed": true,
    "pycharm": {
     "is_executing": false
    }
   },
   "outputs": [],
   "source": [
    "import re\n",
    "import pandas as pd\n",
    "import matplotlib.pyplot as plt"
   ]
  },
  {
   "cell_type": "code",
   "execution_count": 54,
   "outputs": [
    {
     "data": {
      "text/plain": "   Unnamed: 0  playId  frame.id  OL_1_x  OL_1_y  OL_2_x  OL_2_y  OL_3_x  \\\n0           1      68         1   74.18   32.85   73.97   26.61   74.04   \n1           2      68         2   74.18   32.84   73.97   26.61   74.04   \n2           3      68         3   74.18   32.84   73.97   26.61   74.04   \n3           4      68         4   74.18   32.84   73.97   26.61   74.04   \n4           5      68         5   74.18   32.84   73.97   26.61   74.04   \n\n   OL_3_y  OL_4_x  ...  Def_7_y  Def_8_x  Def_8_y  Def_9_x  Def_9_y  Def_10_x  \\\n0   31.15   73.41  ...    24.31    71.53     9.49    69.90    30.90     67.83   \n1   31.15   73.41  ...    24.30    71.53     9.49    70.03    30.80     67.85   \n2   31.15   73.42  ...    24.30    71.53     9.49    70.16    30.71     67.87   \n3   31.15   73.42  ...    24.29    71.53     9.49    70.28    30.62     67.91   \n4   31.15   73.43  ...    24.28    71.52     9.49    70.40    30.54     67.96   \n\n   Def_10_y  Def_11_x  Def_11_y  PlayResult  \n0     36.05     72.36     27.68           0  \n1     36.00     72.37     27.68           0  \n2     35.95     72.37     27.67           0  \n3     35.91     72.37     27.67           0  \n4     35.88     72.37     27.66           0  \n\n[5 rows x 48 columns]",
      "text/html": "<div>\n<style scoped>\n    .dataframe tbody tr th:only-of-type {\n        vertical-align: middle;\n    }\n\n    .dataframe tbody tr th {\n        vertical-align: top;\n    }\n\n    .dataframe thead th {\n        text-align: right;\n    }\n</style>\n<table border=\"1\" class=\"dataframe\">\n  <thead>\n    <tr style=\"text-align: right;\">\n      <th></th>\n      <th>Unnamed: 0</th>\n      <th>playId</th>\n      <th>frame.id</th>\n      <th>OL_1_x</th>\n      <th>OL_1_y</th>\n      <th>OL_2_x</th>\n      <th>OL_2_y</th>\n      <th>OL_3_x</th>\n      <th>OL_3_y</th>\n      <th>OL_4_x</th>\n      <th>...</th>\n      <th>Def_7_y</th>\n      <th>Def_8_x</th>\n      <th>Def_8_y</th>\n      <th>Def_9_x</th>\n      <th>Def_9_y</th>\n      <th>Def_10_x</th>\n      <th>Def_10_y</th>\n      <th>Def_11_x</th>\n      <th>Def_11_y</th>\n      <th>PlayResult</th>\n    </tr>\n  </thead>\n  <tbody>\n    <tr>\n      <th>0</th>\n      <td>1</td>\n      <td>68</td>\n      <td>1</td>\n      <td>74.18</td>\n      <td>32.85</td>\n      <td>73.97</td>\n      <td>26.61</td>\n      <td>74.04</td>\n      <td>31.15</td>\n      <td>73.41</td>\n      <td>...</td>\n      <td>24.31</td>\n      <td>71.53</td>\n      <td>9.49</td>\n      <td>69.90</td>\n      <td>30.90</td>\n      <td>67.83</td>\n      <td>36.05</td>\n      <td>72.36</td>\n      <td>27.68</td>\n      <td>0</td>\n    </tr>\n    <tr>\n      <th>1</th>\n      <td>2</td>\n      <td>68</td>\n      <td>2</td>\n      <td>74.18</td>\n      <td>32.84</td>\n      <td>73.97</td>\n      <td>26.61</td>\n      <td>74.04</td>\n      <td>31.15</td>\n      <td>73.41</td>\n      <td>...</td>\n      <td>24.30</td>\n      <td>71.53</td>\n      <td>9.49</td>\n      <td>70.03</td>\n      <td>30.80</td>\n      <td>67.85</td>\n      <td>36.00</td>\n      <td>72.37</td>\n      <td>27.68</td>\n      <td>0</td>\n    </tr>\n    <tr>\n      <th>2</th>\n      <td>3</td>\n      <td>68</td>\n      <td>3</td>\n      <td>74.18</td>\n      <td>32.84</td>\n      <td>73.97</td>\n      <td>26.61</td>\n      <td>74.04</td>\n      <td>31.15</td>\n      <td>73.42</td>\n      <td>...</td>\n      <td>24.30</td>\n      <td>71.53</td>\n      <td>9.49</td>\n      <td>70.16</td>\n      <td>30.71</td>\n      <td>67.87</td>\n      <td>35.95</td>\n      <td>72.37</td>\n      <td>27.67</td>\n      <td>0</td>\n    </tr>\n    <tr>\n      <th>3</th>\n      <td>4</td>\n      <td>68</td>\n      <td>4</td>\n      <td>74.18</td>\n      <td>32.84</td>\n      <td>73.97</td>\n      <td>26.61</td>\n      <td>74.04</td>\n      <td>31.15</td>\n      <td>73.42</td>\n      <td>...</td>\n      <td>24.29</td>\n      <td>71.53</td>\n      <td>9.49</td>\n      <td>70.28</td>\n      <td>30.62</td>\n      <td>67.91</td>\n      <td>35.91</td>\n      <td>72.37</td>\n      <td>27.67</td>\n      <td>0</td>\n    </tr>\n    <tr>\n      <th>4</th>\n      <td>5</td>\n      <td>68</td>\n      <td>5</td>\n      <td>74.18</td>\n      <td>32.84</td>\n      <td>73.97</td>\n      <td>26.61</td>\n      <td>74.04</td>\n      <td>31.15</td>\n      <td>73.43</td>\n      <td>...</td>\n      <td>24.28</td>\n      <td>71.52</td>\n      <td>9.49</td>\n      <td>70.40</td>\n      <td>30.54</td>\n      <td>67.96</td>\n      <td>35.88</td>\n      <td>72.37</td>\n      <td>27.66</td>\n      <td>0</td>\n    </tr>\n  </tbody>\n</table>\n<p>5 rows × 48 columns</p>\n</div>"
     },
     "metadata": {},
     "output_type": "execute_result",
     "execution_count": 54
    }
   ],
   "source": [
    "data = pd.read_csv('tracking_data.csv')\n",
    "data.head()"
   ],
   "metadata": {
    "collapsed": false,
    "pycharm": {
     "name": "#%%\n",
     "is_executing": false
    }
   }
  },
  {
   "cell_type": "code",
   "execution_count": 55,
   "outputs": [
    {
     "data": {
      "text/plain": "Index(['Unnamed: 0', 'playId', 'frame.id', 'OL_1_x', 'OL_1_y', 'OL_2_x',\n       'OL_2_y', 'OL_3_x', 'OL_3_y', 'OL_4_x', 'OL_4_y', 'OL_5_x', 'OL_5_y',\n       'Off_1_x', 'Off_1_y', 'Off_2_x', 'Off_2_y', 'Off_3_x', 'Off_3_y',\n       'Off_4_x', 'Off_4_y', 'Off_5_x', 'Off_5_y', 'Off_6_x', 'Off_6_y',\n       'Def_1_x', 'Def_1_y', 'Def_2_x', 'Def_2_y', 'Def_3_x', 'Def_3_y',\n       'Def_4_x', 'Def_4_y', 'Def_5_x', 'Def_5_y', 'Def_6_x', 'Def_6_y',\n       'Def_7_x', 'Def_7_y', 'Def_8_x', 'Def_8_y', 'Def_9_x', 'Def_9_y',\n       'Def_10_x', 'Def_10_y', 'Def_11_x', 'Def_11_y', 'PlayResult'],\n      dtype='object')"
     },
     "metadata": {},
     "output_type": "execute_result",
     "execution_count": 55
    }
   ],
   "source": [
    "data.columns"
   ],
   "metadata": {
    "collapsed": false,
    "pycharm": {
     "name": "#%%\n",
     "is_executing": false
    }
   }
  },
  {
   "cell_type": "code",
   "execution_count": 56,
   "outputs": [
    {
     "name": "stdout",
     "text": [
      "Columns with nan values:\n",
      "Def_7_x    6\n",
      "Def_7_y    6\n",
      "dtype: int64\n"
     ],
     "output_type": "stream"
    }
   ],
   "source": [
    "nan_counts = data.isna().sum()\n",
    "print(f\"Columns with nan values:\\n{nan_counts[nan_counts > 0]}\") "
   ],
   "metadata": {
    "collapsed": false,
    "pycharm": {
     "name": "#%%\n",
     "is_executing": false
    }
   }
  },
  {
   "cell_type": "code",
   "execution_count": 57,
   "outputs": [
    {
     "name": "stdout",
     "text": [
      "Number of nan's: 0\n"
     ],
     "output_type": "stream"
    }
   ],
   "source": [
    "data.dropna(inplace=True)\n",
    "nan_counts = data.isna().sum()\n",
    "print(f'Number of nan\\'s: {nan_counts[nan_counts > 0].size}')"
   ],
   "metadata": {
    "collapsed": false,
    "pycharm": {
     "name": "#%%\n",
     "is_executing": false
    }
   }
  },
  {
   "cell_type": "code",
   "execution_count": 58,
   "outputs": [
    {
     "name": "stdout",
     "text": [
      "Number of unique plays: 138\n"
     ],
     "output_type": "stream"
    }
   ],
   "source": [
    "num_plays = data[\"playId\"].unique()\n",
    "print(f'Number of unique plays: {num_plays.size}')"
   ],
   "metadata": {
    "collapsed": false,
    "pycharm": {
     "name": "#%%\n",
     "is_executing": false
    }
   }
  },
  {
   "cell_type": "code",
   "execution_count": 59,
   "outputs": [
    {
     "name": "stdout",
     "text": [
      "Number of frames for play 68: 87\n"
     ],
     "output_type": "stream"
    }
   ],
   "source": [
    "play_id = num_plays[0]\n",
    "play = data[data[\"playId\"] == play_id]\n",
    "print(f'Number of frames for play {play_id}: {play[\"frame.id\"].values.size}')"
   ],
   "metadata": {
    "collapsed": false,
    "pycharm": {
     "name": "#%%\n",
     "is_executing": false
    }
   }
  },
  {
   "cell_type": "code",
   "execution_count": 60,
   "outputs": [
    {
     "data": {
      "text/plain": "[(74.18, 32.85, 'ol'),\n (73.97, 26.61, 'ol'),\n (74.04, 31.15, 'ol'),\n (73.41, 29.9, 'ol'),\n (73.84, 28.34, 'ol'),\n (73.91, 34.78, 'off'),\n (74.36, 29.74, 'off'),\n (74.63, 19.35, 'off'),\n (75.36, 29.92, 'off'),\n (79.02, 29.66, 'off'),\n (74.08, 9.46, 'off'),\n (64.62, 18.19, 'def'),\n (72.0, 33.45, 'def'),\n (72.18, 36.06, 'def'),\n (69.47, 26.92, 'def'),\n (57.51, 28.94, 'def'),\n (71.76, 30.19, 'def'),\n (71.98, 24.31, 'def'),\n (71.53, 9.49, 'def'),\n (69.9, 30.9, 'def'),\n (67.83, 36.05, 'def'),\n (72.36, 27.68, 'def')]"
     },
     "metadata": {},
     "output_type": "execute_result",
     "execution_count": 60
    }
   ],
   "source": [
    "frame_1 = play[play[\"frame.id\"] == 1]\n",
    "x_cols = [c for c in frame_1.columns if '_x' in c.lower()]\n",
    "y_cols = [c for c in frame_1.columns if '_y' in c.lower()]\n",
    "points = [(frame_1[x][0], frame_1[y][0], re.findall(r'^(.*?)_', x.lower())[0]) for x, y in zip(x_cols, y_cols)]\n",
    "points"
   ],
   "metadata": {
    "collapsed": false,
    "pycharm": {
     "name": "#%%\n",
     "is_executing": false
    }
   }
  },
  {
   "cell_type": "code",
   "execution_count": 61,
   "outputs": [
    {
     "data": {
      "text/plain": "       x      y label\n0  74.18  32.85    ol\n1  73.97  26.61    ol\n2  74.04  31.15    ol\n3  73.41  29.90    ol\n4  73.84  28.34    ol",
      "text/html": "<div>\n<style scoped>\n    .dataframe tbody tr th:only-of-type {\n        vertical-align: middle;\n    }\n\n    .dataframe tbody tr th {\n        vertical-align: top;\n    }\n\n    .dataframe thead th {\n        text-align: right;\n    }\n</style>\n<table border=\"1\" class=\"dataframe\">\n  <thead>\n    <tr style=\"text-align: right;\">\n      <th></th>\n      <th>x</th>\n      <th>y</th>\n      <th>label</th>\n    </tr>\n  </thead>\n  <tbody>\n    <tr>\n      <th>0</th>\n      <td>74.18</td>\n      <td>32.85</td>\n      <td>ol</td>\n    </tr>\n    <tr>\n      <th>1</th>\n      <td>73.97</td>\n      <td>26.61</td>\n      <td>ol</td>\n    </tr>\n    <tr>\n      <th>2</th>\n      <td>74.04</td>\n      <td>31.15</td>\n      <td>ol</td>\n    </tr>\n    <tr>\n      <th>3</th>\n      <td>73.41</td>\n      <td>29.90</td>\n      <td>ol</td>\n    </tr>\n    <tr>\n      <th>4</th>\n      <td>73.84</td>\n      <td>28.34</td>\n      <td>ol</td>\n    </tr>\n  </tbody>\n</table>\n</div>"
     },
     "metadata": {},
     "output_type": "execute_result",
     "execution_count": 61
    }
   ],
   "source": [
    "x = [p[0] for p in points]\n",
    "y = [p[1] for p in points]\n",
    "label = [p[2] for p in points]\n",
    "df = pd.DataFrame(dict(x=x, y=y, label=label))\n",
    "groups = df.groupby('label')\n",
    "df.head()"
   ],
   "metadata": {
    "collapsed": false,
    "pycharm": {
     "name": "#%%\n",
     "is_executing": false
    }
   }
  },
  {
   "cell_type": "code",
   "execution_count": 62,
   "outputs": [],
   "source": [
    "def draw_football_field(ax):\n",
    "    ax.set_xlim([0, 120])\n",
    "    ax.set_ylim([0, 160/3])\n",
    "    ax.set_facecolor('green')\n",
    "    ax.fill_between([0, 10], 160/3, color='maroon')\n",
    "    ax.fill_between([110, 120], 160/3, color='gold')\n",
    "    \n",
    "    for i in range(1, 12):\n",
    "        ax.axvline(i*10, c='white', zorder=0)\n",
    "        if i < 6:\n",
    "            ax.annotate(i*10, ((i+1)*10+1, 5), c='white')\n",
    "        elif i < 10:\n",
    "            ax.annotate(100 - i*10, ((i+1)*10+1, 5), c='white')\n",
    "            "
   ],
   "metadata": {
    "collapsed": false,
    "pycharm": {
     "name": "#%%\n",
     "is_executing": false
    }
   }
  },
  {
   "cell_type": "code",
   "execution_count": 63,
   "outputs": [
    {
     "data": {
      "text/plain": "<Figure size 432x576 with 2 Axes>",
      "image/png": "[encoded data removed]"
     },
     "metadata": {},
     "output_type": "display_data"
    }
   ],
   "source": [
    "fig, axs = plt.subplots(2, figsize=(6, 8), sharex=True, sharey=True)\n",
    "for ax in axs:\n",
    "    draw_football_field(ax)\n",
    "\n",
    "marker_size = 16\n",
    "edge_color = 'black'\n",
    "for name, group in groups:\n",
    "    if name == 'def':\n",
    "        m = 's'\n",
    "    else:\n",
    "        m = 'o'\n",
    "    axs[0].scatter(group.x, group.y, label=name, marker=m, \n",
    "                   s=marker_size, edgecolors=edge_color)\n",
    "    \n",
    "for name, group in groups:\n",
    "    if name == 'def':\n",
    "        m = 's'\n",
    "    else:\n",
    "        m = 'o'\n",
    "    if name == 'ol':\n",
    "        axs[1].scatter(group.x, group.y, label=f'{name}_old', \n",
    "                       marker=m, edgecolors=edge_color, color='gray', \n",
    "                       s=marker_size)\n",
    "        axs[1].scatter(group.x, group.y+2, label=name, \n",
    "                       edgecolors=edge_color, marker=m, s=marker_size)\n",
    "    else: \n",
    "        axs[1].scatter(group.x, group.y, label=name, \n",
    "                       marker=m, s= marker_size, edgecolors=edge_color)\n",
    "\n",
    "handles, labels = axs[1].get_legend_handles_labels()\n",
    "fig.legend(handles, labels, loc='upper right')\n",
    "axs[0].title.set_text('Original Positions')\n",
    "axs[1].title.set_text('New Positions')\n",
    "plt.xticks([])\n",
    "plt.yticks([])\n",
    "# plt.legend(loc='upper right')\n",
    "plt.savefig('C:/Users/ian_c/Linesman/football_fields/ol_plus_2_in_y_direction.svg')"
   ],
   "metadata": {
    "collapsed": false,
    "pycharm": {
     "name": "#%%\n",
     "is_executing": false
    }
   }
  }
 ],
 "metadata": {
  "kernelspec": {
   "name": "pycharm-84726f9f",
   "language": "python",
   "display_name": "PyCharm (Linesman)"
  },
  "language_info": {
   "codemirror_mode": {
    "name": "ipython",
    "version": 2
   },
   "file_extension": ".py",
   "mimetype": "text/x-python",
   "name": "python",
   "nbconvert_exporter": "python",
   "pygments_lexer": "ipython2",
   "version": "2.7.6"
  },
  "pycharm": {
   "stem_cell": {
    "cell_type": "raw",
    "source": [],
    "metadata": {
     "collapsed": false
    }
   }
  }
 },
 "nbformat": 4,
 "nbformat_minor": 0
}