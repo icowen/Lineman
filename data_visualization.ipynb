{
 "cells": [
  {
   "cell_type": "code",
   "execution_count": 1,
   "metadata": {
    "pycharm": {
     "is_executing": false
    }
   },
   "outputs": [],
   "source": [
    "%matplotlib inline"
   ]
  },
  {
   "cell_type": "code",
   "execution_count": 2,
   "metadata": {
    "pycharm": {
     "is_executing": false,
     "name": "#%%\n"
    }
   },
   "outputs": [
    {
     "name": "stderr",
     "text": [
      "Using TensorFlow backend.\n"
     ],
     "output_type": "stream"
    }
   ],
   "source": [
    "import re\n",
    "import pandas as pd\n",
    "import matplotlib.pyplot as plt\n",
    "import tensorflow as tf\n",
    "from keras import backend as K\n",
    "import random\n",
    "import numpy as np\n",
    "\n",
    "random.seed(1)\n",
    "np.random.seed(2)\n",
    "tf.random.set_seed(3)\n",
    "tf.keras.backend.set_floatx('float32')"
   ]
  },
  {
   "cell_type": "code",
   "execution_count": 3,
   "metadata": {
    "pycharm": {
     "is_executing": false,
     "name": "#%%\n"
    }
   },
   "outputs": [
    {
     "name": "stderr",
     "text": [
      "C:\\Users\\ian_c\\Anaconda3\\envs\\Linesman\\lib\\site-packages\\ipykernel_launcher.py:1: ParserWarning: Both a converter and dtype were specified for column PassResult - only the converter will be used\n",
      "  \"\"\"Entry point for launching an IPython kernel.\n"
     ],
     "output_type": "stream"
    },
    {
     "data": {
      "text/plain": "     X        gameId  playId  frame.id  OL_C_x     OL_C_y  OL_LG_x    OL_LG_y  \\\n0  1.0  2.017091e+09    68.0       1.0   26.59  23.433332    26.16  24.993334   \n1  2.0  2.017091e+09    68.0       2.0   26.59  23.423334    26.16  24.993334   \n2  3.0  2.017091e+09    68.0       3.0   26.58  23.423334    26.16  24.993334   \n3  4.0  2.017091e+09    68.0       4.0   26.58  23.423334    26.16  24.993334   \n4  5.0  2.017091e+09    68.0       5.0   26.57  23.423334    26.16  24.983334   \n\n     OL_LT_x    OL_LT_y  ...    Def_9_x    Def_9_y   Def_10_x   Def_10_y  \\\n0  26.030001  26.723333  ...  35.380001  35.143333  42.490002  24.393333   \n1  26.030001  26.723333  ...  35.369999  35.143333  42.490002  24.403334   \n2  26.030001  26.723333  ...  35.369999  35.143333  42.500000  24.413334   \n3  26.030001  26.723333  ...  35.369999  35.143333  42.520000  24.453333   \n4  26.030001  26.723333  ...  35.369999  35.153332  42.639999  24.673334   \n\n    Def_11_x   Def_11_y  PlayResult  sack.ind  PassResult  num_vec  \n0  28.469999  43.843334         0.0       0.0           I      1.0  \n1  28.469999  43.843334         0.0       0.0           I      2.0  \n2  28.469999  43.843334         0.0       0.0           I      3.0  \n3  28.469999  43.843334         0.0       0.0           I      4.0  \n4  28.480000  43.843334         0.0       0.0           I      5.0  \n\n[5 rows x 62 columns]",
      "text/html": "<div>\n<style scoped>\n    .dataframe tbody tr th:only-of-type {\n        vertical-align: middle;\n    }\n\n    .dataframe tbody tr th {\n        vertical-align: top;\n    }\n\n    .dataframe thead th {\n        text-align: right;\n    }\n</style>\n<table border=\"1\" class=\"dataframe\">\n  <thead>\n    <tr style=\"text-align: right;\">\n      <th></th>\n      <th>X</th>\n      <th>gameId</th>\n      <th>playId</th>\n      <th>frame.id</th>\n      <th>OL_C_x</th>\n      <th>OL_C_y</th>\n      <th>OL_LG_x</th>\n      <th>OL_LG_y</th>\n      <th>OL_LT_x</th>\n      <th>OL_LT_y</th>\n      <th>...</th>\n      <th>Def_9_x</th>\n      <th>Def_9_y</th>\n      <th>Def_10_x</th>\n      <th>Def_10_y</th>\n      <th>Def_11_x</th>\n      <th>Def_11_y</th>\n      <th>PlayResult</th>\n      <th>sack.ind</th>\n      <th>PassResult</th>\n      <th>num_vec</th>\n    </tr>\n  </thead>\n  <tbody>\n    <tr>\n      <th>0</th>\n      <td>1.0</td>\n      <td>2.017091e+09</td>\n      <td>68.0</td>\n      <td>1.0</td>\n      <td>26.59</td>\n      <td>23.433332</td>\n      <td>26.16</td>\n      <td>24.993334</td>\n      <td>26.030001</td>\n      <td>26.723333</td>\n      <td>...</td>\n      <td>35.380001</td>\n      <td>35.143333</td>\n      <td>42.490002</td>\n      <td>24.393333</td>\n      <td>28.469999</td>\n      <td>43.843334</td>\n      <td>0.0</td>\n      <td>0.0</td>\n      <td>I</td>\n      <td>1.0</td>\n    </tr>\n    <tr>\n      <th>1</th>\n      <td>2.0</td>\n      <td>2.017091e+09</td>\n      <td>68.0</td>\n      <td>2.0</td>\n      <td>26.59</td>\n      <td>23.423334</td>\n      <td>26.16</td>\n      <td>24.993334</td>\n      <td>26.030001</td>\n      <td>26.723333</td>\n      <td>...</td>\n      <td>35.369999</td>\n      <td>35.143333</td>\n      <td>42.490002</td>\n      <td>24.403334</td>\n      <td>28.469999</td>\n      <td>43.843334</td>\n      <td>0.0</td>\n      <td>0.0</td>\n      <td>I</td>\n      <td>2.0</td>\n    </tr>\n    <tr>\n      <th>2</th>\n      <td>3.0</td>\n      <td>2.017091e+09</td>\n      <td>68.0</td>\n      <td>3.0</td>\n      <td>26.58</td>\n      <td>23.423334</td>\n      <td>26.16</td>\n      <td>24.993334</td>\n      <td>26.030001</td>\n      <td>26.723333</td>\n      <td>...</td>\n      <td>35.369999</td>\n      <td>35.143333</td>\n      <td>42.500000</td>\n      <td>24.413334</td>\n      <td>28.469999</td>\n      <td>43.843334</td>\n      <td>0.0</td>\n      <td>0.0</td>\n      <td>I</td>\n      <td>3.0</td>\n    </tr>\n    <tr>\n      <th>3</th>\n      <td>4.0</td>\n      <td>2.017091e+09</td>\n      <td>68.0</td>\n      <td>4.0</td>\n      <td>26.58</td>\n      <td>23.423334</td>\n      <td>26.16</td>\n      <td>24.993334</td>\n      <td>26.030001</td>\n      <td>26.723333</td>\n      <td>...</td>\n      <td>35.369999</td>\n      <td>35.143333</td>\n      <td>42.520000</td>\n      <td>24.453333</td>\n      <td>28.469999</td>\n      <td>43.843334</td>\n      <td>0.0</td>\n      <td>0.0</td>\n      <td>I</td>\n      <td>4.0</td>\n    </tr>\n    <tr>\n      <th>4</th>\n      <td>5.0</td>\n      <td>2.017091e+09</td>\n      <td>68.0</td>\n      <td>5.0</td>\n      <td>26.57</td>\n      <td>23.423334</td>\n      <td>26.16</td>\n      <td>24.983334</td>\n      <td>26.030001</td>\n      <td>26.723333</td>\n      <td>...</td>\n      <td>35.369999</td>\n      <td>35.153332</td>\n      <td>42.639999</td>\n      <td>24.673334</td>\n      <td>28.480000</td>\n      <td>43.843334</td>\n      <td>0.0</td>\n      <td>0.0</td>\n      <td>I</td>\n      <td>5.0</td>\n    </tr>\n  </tbody>\n</table>\n<p>5 rows × 62 columns</p>\n</div>"
     },
     "metadata": {},
     "output_type": "execute_result",
     "execution_count": 3
    }
   ],
   "source": [
    "data = pd.read_csv('netdata.csv', dtype='float32', converters={'PassResult': lambda x: 'R' if pd.isna(x) else x})\n",
    "data = data.drop(data[~data[\"playId\"].isin(data[\"playId\"].unique()[:10])].index)\n",
    "data.head()"
   ]
  },
  {
   "cell_type": "code",
   "execution_count": 4,
   "metadata": {
    "pycharm": {
     "is_executing": false,
     "name": "#%%\n"
    }
   },
   "outputs": [
    {
     "name": "stdout",
     "text": [
      "New dimensions of DataFrame: (2490, 61)\n"
     ],
     "output_type": "stream"
    }
   ],
   "source": [
    "data.drop('X', inplace=True, axis=1)\n",
    "data.fillna('Run', inplace=True)\n",
    "print(f'New dimensions of DataFrame: {data.shape}')"
   ]
  },
  {
   "cell_type": "code",
   "execution_count": 5,
   "metadata": {
    "pycharm": {
     "is_executing": false,
     "name": "#%%\n"
    }
   },
   "outputs": [
    {
     "name": "stdout",
     "text": [
      "Number of unique plays: 10\n",
      "Average number of frames per play 249.0\n"
     ],
     "output_type": "stream"
    }
   ],
   "source": [
    "num_plays = data[\"playId\"].unique().size\n",
    "print(f'Number of unique plays: {num_plays}')\n",
    "print(f'Average number of frames per play {round(data.shape[0] / num_plays, 2)}')\n"
   ]
  },
  {
   "cell_type": "markdown",
   "metadata": {
    "pycharm": {
     "is_executing": false,
     "name": "#%% md\n"
    }
   },
   "source": [
    "![Title](play68.gif)"
   ]
  },
  {
   "cell_type": "code",
   "execution_count": 6,
   "outputs": [
    {
     "name": "stdout",
     "text": [
      "[189. 210. 395. 427. 449.]\n"
     ],
     "output_type": "stream"
    }
   ],
   "source": [
    "last_5_play_ids = data[\"playId\"].unique()[-5:]\n",
    "test_data = data.loc[data[\"playId\"].isin(last_5_play_ids)]\n",
    "train_data = data.loc[~data[\"playId\"].isin(last_5_play_ids)]\n",
    "print(last_5_play_ids)\n"
   ],
   "metadata": {
    "collapsed": false,
    "pycharm": {
     "name": "#%%\n",
     "is_executing": false
    }
   }
  },
  {
   "cell_type": "code",
   "execution_count": 7,
   "outputs": [
    {
     "name": "stdout",
     "text": [
      "Index(['gameId', 'playId', 'frame.id', 'OL_C_x', 'OL_C_y', 'OL_LG_x',\n",
      "       'OL_LG_y', 'OL_LT_x', 'OL_LT_y', 'OL_RG_x', 'OL_RG_y', 'OL_RT_x',\n",
      "       'OL_RT_y', 'X_Match_LT', 'Y_Match_LT', 'X_Match_LG', 'Y_Match_LG',\n",
      "       'X_Match_C', 'Y_Match_C', 'X_Match_RG', 'Y_Match_RG', 'X_Match_RT',\n",
      "       'Y_Match_RT', 'Off_1_x', 'Off_1_y', 'Off_2_x', 'Off_2_y', 'Off_3_x',\n",
      "       'Off_3_y', 'Off_4_x', 'Off_4_y', 'Off_5_x', 'Off_5_y', 'Off_6_x',\n",
      "       'Off_6_y', 'Def_1_x', 'Def_1_y', 'Def_2_x', 'Def_2_y', 'Def_3_x',\n",
      "       'Def_3_y', 'Def_4_x', 'Def_4_y', 'Def_5_x', 'Def_5_y', 'Def_6_x',\n",
      "       'Def_6_y', 'Def_7_x', 'Def_7_y', 'Def_8_x', 'Def_8_y', 'Def_9_x',\n",
      "       'Def_9_y', 'Def_10_x', 'Def_10_y', 'Def_11_x', 'Def_11_y', 'PlayResult',\n",
      "       'sack.ind', 'PassResult', 'num_vec'],\n",
      "      dtype='object')\n"
     ],
     "output_type": "stream"
    }
   ],
   "source": [
    "print(test_data.columns)"
   ],
   "metadata": {
    "collapsed": false,
    "pycharm": {
     "name": "#%%\n",
     "is_executing": false
    }
   }
  },
  {
   "cell_type": "code",
   "execution_count": 8,
   "outputs": [],
   "source": [
    "keep_regex = r'(Off|OL_(<?(C|LG|RG|RT|LT)_(x|y))$|Def|frame|Match)'\n",
    "keep_cols = [c for c in train_data.columns if not re.search(keep_regex, c)]\n",
    "data_train_for_model = train_data.drop(keep_cols, axis=1)\n",
    "data_test_for_model = test_data.drop(keep_cols, axis=1)\n",
    "\n",
    "input_shape = (data_train_for_model.shape[1],)\n",
    "\n",
    "model = tf.keras.Sequential()\n",
    "num_input_nodes = 25\n",
    "num_output_nodes = 1\n",
    "model.add(tf.keras.layers.Dense(num_input_nodes, input_shape=input_shape, activation=tf.nn.sigmoid))\n",
    "model.add(tf.keras.layers.Dense(num_input_nodes, activation=tf.nn.sigmoid))\n",
    "model.add(tf.keras.layers.Dense(num_input_nodes, activation=tf.nn.sigmoid))\n",
    "model.add(tf.keras.layers.Dense(num_output_nodes, activation=tf.keras.activations.linear))"
   ],
   "metadata": {
    "collapsed": false,
    "pycharm": {
     "name": "#%%\n",
     "is_executing": false
    }
   }
  },
  {
   "cell_type": "code",
   "execution_count": 9,
   "outputs": [],
   "source": [
    "def mse_loss_with_prior(avg_of_play_no_noise):\n",
    "    def mse(y_true, y_pred):\n",
    "        return K.mean(K.square((y_pred - avg_of_play_no_noise) - y_true))\n",
    "\n",
    "    return mse"
   ],
   "metadata": {
    "collapsed": false,
    "pycharm": {
     "name": "#%%\n",
     "is_executing": false
    }
   }
  },
  {
   "cell_type": "code",
   "execution_count": 10,
   "outputs": [],
   "source": [
    "model.compile(optimizer='adam',\n",
    "              loss=mse_loss_with_prior([]),\n",
    "              metrics=['acc'])\n"
   ],
   "metadata": {
    "collapsed": false,
    "pycharm": {
     "name": "#%%\n",
     "is_executing": false
    }
   }
  },
  {
   "cell_type": "code",
   "execution_count": 11,
   "outputs": [],
   "source": [
    "initial_model = tf.keras.models.clone_model(model)\n",
    "initial_weights = model.get_weights()\n",
    "initial_model.set_weights(initial_weights)"
   ],
   "metadata": {
    "collapsed": false,
    "pycharm": {
     "name": "#%%\n",
     "is_executing": false
    }
   }
  },
  {
   "cell_type": "code",
   "execution_count": 12,
   "outputs": [
    {
     "name": "stdout",
     "text": [
      "[[-1.9341649]\n",
      " [-1.9341817]\n",
      " [-1.9341805]\n",
      " [-1.9341414]\n",
      " [-1.9342172]\n",
      " [-1.9343321]\n",
      " [-1.9343932]\n",
      " [-1.9343791]\n",
      " [-1.9346864]\n",
      " [-1.93153  ]]\n"
     ],
     "output_type": "stream"
    }
   ],
   "source": [
    "initial_predictions = initial_model.predict(data_train_for_model)\n",
    "print(initial_predictions[:10])"
   ],
   "metadata": {
    "collapsed": false,
    "pycharm": {
     "name": "#%%\n",
     "is_executing": false
    }
   }
  },
  {
   "cell_type": "code",
   "execution_count": 17,
   "outputs": [
    {
     "name": "stdout",
     "text": [
      "   frame.id  OL_C_x     OL_C_y  OL_LG_x    OL_LG_y    OL_LT_x    OL_LT_y    OL_RG_x    OL_RG_y  OL_RT_x    OL_RT_y  X_Match_LT  Y_Match_LT  X_Match_LG  Y_Match_LG  X_Match_C  Y_Match_C  X_Match_RG  Y_Match_RG  X_Match_RT  Y_Match_RT  Off_1_x    Off_1_y    Off_2_x    Off_2_y    Off_3_x    Off_3_y  Off_4_x    Off_4_y  Off_5_x    Off_5_y    Off_6_x    Off_6_y  Def_1_x    Def_1_y    Def_2_x    Def_2_y    Def_3_x    Def_3_y    Def_4_x    Def_4_y    Def_5_x    Def_5_y    Def_6_x    Def_6_y  Def_7_x    Def_7_y    Def_8_x    Def_8_y    Def_9_x    Def_9_y   Def_10_x   Def_10_y   Def_11_x   Def_11_y\n",
      "0       1.0   26.59  23.433332    26.16  24.993334  26.030001  26.723333  25.959999  22.183332    25.82  20.483334       28.24   23.143333       28.24   23.143333      28.24  23.143333   28.000000   19.883333   28.000000   19.883333    25.92  43.873333  25.370001  33.983334  24.639999  23.413334    20.98  23.673334    26.09  18.553333  25.639999  23.593334    28.24  23.143333  27.639999  25.653334  30.100000  22.433332  28.000000  19.883333  30.530001  26.413334  28.020000  29.023333    27.82  17.273333  32.169998  17.283333  35.380001  35.143333  42.490002  24.393333  28.469999  43.843334\n",
      "1       2.0   26.59  23.423334    26.16  24.993334  26.030001  26.723333  25.959999  22.183332    25.82  20.493334       28.24   23.153334       28.24   23.153334      28.24  23.153334   27.969999   19.893333   27.969999   19.893333    25.92  43.873333  25.370001  33.983334  24.660000  23.973333    20.98  23.673334    26.09  18.553333  25.639999  23.593334    28.24  23.153334  27.629999  25.653334  29.969999  22.533333  27.969999  19.893333  30.450001  26.593334  28.020000  29.033333    27.83  17.313334  32.150002  17.333334  35.369999  35.143333  42.490002  24.403334  28.469999  43.843334\n",
      "2       3.0   26.58  23.423334    26.16  24.993334  26.030001  26.723333  25.959999  22.183332    25.82  20.493334       28.23   23.153334       28.23   23.153334      28.23  23.153334   27.940001   19.913334   27.940001   19.913334    25.92  43.873333  25.370001  33.983334  24.690001  24.543333    20.98  23.673334    26.09  18.543333  25.639999  23.593334    28.23  23.153334  27.629999  25.663334  29.840000  22.623333  27.940001  19.913334  30.360001  26.753334  28.020000  29.033333    27.83  17.353333  32.130001  17.383333  35.369999  35.143333  42.500000  24.413334  28.469999  43.843334\n",
      "3       4.0   26.58  23.423334    26.16  24.993334  26.030001  26.723333  25.959999  22.183332    25.82  20.493334       28.23   23.153334       28.23   23.153334      28.23  23.153334   27.910000   19.953333   27.910000   19.953333    25.92  43.873333  25.370001  33.983334  24.709999  25.103333    20.98  23.673334    26.09  18.543333  25.639999  23.593334    28.23  23.153334  27.629999  25.663334  29.719999  22.713333  27.910000  19.953333  30.290001  26.913334  28.030001  29.043333    27.83  17.393333  32.090000  17.423334  35.369999  35.143333  42.520000  24.453333  28.469999  43.843334\n",
      "4       5.0   26.57  23.423334    26.16  24.983334  26.030001  26.723333  25.959999  22.183332    25.82  20.493334       28.23   23.153334       28.23   23.153334      28.23  23.153334   27.910000   19.993334   27.910000   19.993334    25.92  43.873333  25.370001  33.983334  24.740000  25.663334    20.98  23.673334    26.09  18.543333  25.639999  23.593334    28.23  23.153334  27.629999  25.673334  29.600000  22.793333  27.910000  19.993334  30.230000  27.063334  28.030001  29.053333    27.83  17.413334  32.040001  17.453333  35.369999  35.153332  42.639999  24.673334  28.480000  43.843334\n"
     ],
     "output_type": "stream"
    },
    {
     "name": "stderr",
     "text": [
      "C:\\Users\\ian_c\\Anaconda3\\envs\\Linesman\\lib\\site-packages\\ipykernel_launcher.py:2: SettingWithCopyWarning: \n",
      "A value is trying to be set on a copy of a slice from a DataFrame.\n",
      "Try using .loc[row_indexer,col_indexer] = value instead\n",
      "\n",
      "See the caveats in the documentation: https://pandas.pydata.org/pandas-docs/stable/user_guide/indexing.html#returning-a-view-versus-a-copy\n",
      "  \n"
     ],
     "output_type": "stream"
    },
    {
     "data": {
      "text/plain": "array([[-1.9341649],\n       [-1.9341817],\n       [-1.9341805],\n       ...,\n       [-1.8841602],\n       [-1.8829361],\n       [-1.8831102]], dtype=float32)"
     },
     "metadata": {},
     "output_type": "execute_result",
     "execution_count": 17
    }
   ],
   "source": [
    "prior = 4.0\n",
    "train_data[\"NetNoise\"] = initial_predictions - prior\n",
    "# model.compile(loss=mse_loss_with_prior(train_data[\"NetNoise\"]))\n",
    "print(train_data.drop([c for c in train_data.columns if not re.search(keep_regex, c)], axis=1).head().to_string())\n",
    "pred = model.predict(train_data.drop([c for c in train_data.columns if not re.search(keep_regex, c)], axis=1))\n",
    "\n",
    "pred\n",
    "\n",
    "# pred - train_data[\"NetNoise\"].values\n"
   ],
   "metadata": {
    "collapsed": false,
    "pycharm": {
     "name": "#%%\n",
     "is_executing": false
    }
   }
  }
 ],
 "metadata": {
  "kernelspec": {
   "display_name": "PyCharm (Linesman)",
   "language": "python",
   "name": "pycharm-84726f9f"
  },
  "language_info": {
   "codemirror_mode": {
    "name": "ipython",
    "version": 3
   },
   "file_extension": ".py",
   "mimetype": "text/x-python",
   "name": "python",
   "nbconvert_exporter": "python",
   "pygments_lexer": "ipython3",
   "version": "3.7.6"
  },
  "pycharm": {
   "stem_cell": {
    "cell_type": "raw",
    "source": [],
    "metadata": {
     "collapsed": false
    }
   }
  }
 },
 "nbformat": 4,
 "nbformat_minor": 1
}